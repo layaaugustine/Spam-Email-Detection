{
 "cells": [
  {
   "cell_type": "code",
   "execution_count": null,
   "metadata": {},
   "outputs": [],
   "source": []
  }
 ],
 "metadata": {
  "kernelspec": {
   "display_name": "Python 3.8.0 64-bit",
   "language": "python",
   "name": "python3"
  },
  "language_info": {
   "name": "python",
   "version": "3.8.0"
  },
  "vscode": {
   "interpreter": {
    "hash": "5db7baad4acdca0b2bb91092f7a24ae4612b9bcde3b1fedffab4184d0610ee99"
   }
  }
 },
 "nbformat": 4,
 "nbformat_minor": 5
}
